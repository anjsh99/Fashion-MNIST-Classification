{
 "cells": [
  {
   "cell_type": "code",
   "execution_count": 1,
   "metadata": {},
   "outputs": [],
   "source": [
    "#importing required libraries\n",
    "import gzip\n",
    "import numpy as np\n",
    "import time\n",
    "import matplotlib.pyplot as plt"
   ]
  },
  {
   "cell_type": "code",
   "execution_count": 2,
   "metadata": {},
   "outputs": [],
   "source": [
    "from sklearn import metrics\n",
    "from sklearn.neighbors import KNeighborsClassifier\n",
    "from sklearn.metrics import accuracy_score\n",
    "from sklearn.metrics import precision_score\n",
    "from sklearn.metrics import confusion_matrix\n",
    "from sklearn.metrics import classification_report"
   ]
  },
  {
   "cell_type": "code",
   "execution_count": 3,
   "metadata": {},
   "outputs": [],
   "source": [
    "#Loading training datasets\n",
    "with gzip.open(\"./train-labels-idx1-ubyte.gz\", \"r\") as train_label_path:\n",
    "    train_label = np.frombuffer(train_label_path.read(), dtype=np.uint8, offset=8)\n",
    "\n",
    "with gzip.open(\"./train-images-idx3-ubyte.gz\", \"r\") as train_data_path:\n",
    "    train_data = np.frombuffer(train_data_path.read(), dtype=np.uint8, offset=16).reshape(len(train_label), 784)"
   ]
  },
  {
   "cell_type": "code",
   "execution_count": 4,
   "metadata": {},
   "outputs": [],
   "source": [
    "#Loading test datasets\n",
    "with gzip.open(\"./t10k-labels-idx1-ubyte.gz\", \"r\") as test_label_path:\n",
    "    test_label = np.frombuffer(test_label_path.read(), dtype=np.uint8, offset=8)\n",
    "\n",
    "with gzip.open(\"./t10k-images-idx3-ubyte.gz\", \"r\") as test_data_path:\n",
    "    test_data = np.frombuffer(test_data_path.read(), dtype=np.uint8, offset=16).reshape(len(test_label), 784)"
   ]
  },
  {
   "cell_type": "code",
   "execution_count": 5,
   "metadata": {},
   "outputs": [
    {
     "name": "stdout",
     "output_type": "stream",
     "text": [
      "The type of datasets are- \n",
      "<class 'numpy.ndarray'>\n",
      "<class 'numpy.ndarray'>\n",
      "<class 'numpy.ndarray'>\n",
      "<class 'numpy.ndarray'>\n",
      "(60000, 784)\n",
      "(10000, 784)\n",
      "(60000,)\n",
      "(10000,)\n"
     ]
    }
   ],
   "source": [
    "#the data file's type\n",
    "print(\"The type of datasets are- \")\n",
    "print(type(train_data))\n",
    "print(type(train_label))\n",
    "print(type(test_data))\n",
    "print(type(test_label))\n",
    "\n",
    "#the shapes of data\n",
    "print(train_data.shape)\n",
    "print(test_data.shape)\n",
    "print(train_label.shape)\n",
    "print(test_label.shape)"
   ]
  },
  {
   "cell_type": "code",
   "execution_count": 6,
   "metadata": {},
   "outputs": [
    {
     "name": "stdout",
     "output_type": "stream",
     "text": [
      "Considering part of original datasets for classification purpose\n",
      "(30000, 784)\n",
      "(30000,)\n",
      "(500, 784)\n",
      "(500,)\n"
     ]
    }
   ],
   "source": [
    "print(\"Considering part of original datasets for classification purpose\")\n",
    "#using 30,000 entries of training data\n",
    "train_data = train_data[:30000]\n",
    "train_label = train_label[:30000]\n",
    "print(train_data.shape)\n",
    "print(train_label.shape)\n",
    "\n",
    "#using 500 entries of test data\n",
    "test_data = train_data[:500]\n",
    "test_label = train_label[:500]\n",
    "print(test_data.shape)\n",
    "print(test_label.shape)"
   ]
  },
  {
   "cell_type": "code",
   "execution_count": 7,
   "metadata": {},
   "outputs": [
    {
     "name": "stdout",
     "output_type": "stream",
     "text": [
      "The unique image labels are\n",
      "10\n",
      "[0 1 2 3 4 5 6 7 8 9]\n"
     ]
    }
   ],
   "source": [
    "#finding the unique labels\n",
    "print(\"The unique image labels are\")\n",
    "print(np.shape(np.unique(train_label))[0])\n",
    "print(np.unique(train_label))"
   ]
  },
  {
   "cell_type": "code",
   "execution_count": 8,
   "metadata": {},
   "outputs": [],
   "source": [
    "#Creating Dictionaries\n",
    "accuracy = {}\n",
    "label_predicted = {}"
   ]
  },
  {
   "cell_type": "code",
   "execution_count": 9,
   "metadata": {},
   "outputs": [
    {
     "name": "stdout",
     "output_type": "stream",
     "text": [
      "k=2, accuracy=91.00, time=27.67 \n",
      "k=3, accuracy=93.00, time=29.75 \n",
      "k=4, accuracy=89.40, time=27.18 \n",
      "k=5, accuracy=88.80, time=34.68 \n",
      "k=6, accuracy=88.60, time=34.08 \n",
      "k=7, accuracy=88.40, time=31.64 \n",
      "k=8, accuracy=88.20, time=29.95 \n",
      "k=9, accuracy=88.00, time=28.56 \n"
     ]
    }
   ],
   "source": [
    "#knn Classifier\n",
    "for k in np.arange(2, 10, 1):\n",
    "    start = time.time()\n",
    "    \n",
    "    knn_classifier = KNeighborsClassifier(n_neighbors=k)\n",
    "    knn_classifier.fit(train_data, train_label)\n",
    "    knn_pred = knn_classifier.predict(test_data)\n",
    "    \n",
    "    label_predicted[k] = knn_pred\n",
    "    accuracy[k] = accuracy_score(test_label,knn_pred)*100\n",
    "    \n",
    "    end = time.time()\n",
    "    knn_time = end - start\n",
    "    \n",
    "    print('k=%d, accuracy=%.2f, time=%.2f ' % (k, accuracy[k], knn_time))"
   ]
  },
  {
   "cell_type": "code",
   "execution_count": 33,
   "metadata": {},
   "outputs": [
    {
     "data": {
      "image/png": "[encoded data removed]",
      "text/plain": [
       "<Figure size 432x288 with 1 Axes>"
      ]
     },
     "metadata": {
      "needs_background": "light"
     },
     "output_type": "display_data"
    }
   ],
   "source": [
    "k_values= [2,3,4,5,6,7,8,9]\n",
    "accuracy_values= [91,93,89.40,88.80,88.60,88.40,88.20,88]\n",
    "plt.plot(k, accuracy_values,color='g')\n",
    "plt.xlabel('Number of Neighbors K')\n",
    "plt.ylabel('Accuracy'time_values)\n",
    "plt.show()\n",
    "    "
   ]
  },
  {
   "cell_type": "code",
   "execution_count": 34,
   "metadata": {},
   "outputs": [
    {
     "data": {
      "image/png": "[encoded data removed]",
      "text/plain": [
       "<Figure size 432x288 with 1 Axes>"
      ]
     },
     "metadata": {
      "needs_background": "light"
     },
     "output_type": "display_data"
    }
   ],
   "source": [
    "k_values= [2,3,4,5,6,7,8,9]\n",
    "time_values= [27.67,29.75,27.18,34.68,34.08,31.64,29.95,28.56]\n",
    "plt.plot(k, time_values,color='g')\n",
    "plt.xlabel('Number of Neighbors K')\n",
    "plt.ylabel('Time')\n",
    "plt.show()"
   ]
  },
  {
   "cell_type": "code",
   "execution_count": 29,
   "metadata": {},
   "outputs": [],
   "source": [
    "#re-training the kNN model with k=3\n",
    "knn_model = KNeighborsClassifier(n_neighbors=3)\n",
    "knn_model.fit(train_data, train_label)\n",
    "model_pred = knn_model.predict(test_data)"
   ]
  },
  {
   "cell_type": "code",
   "execution_count": 30,
   "metadata": {},
   "outputs": [
    {
     "name": "stdout",
     "output_type": "stream",
     "text": [
      "Performance of kNN classifier with k=3\n",
      "              precision    recall  f1-score   support\n",
      "\n",
      "           0       0.79      0.94      0.86        52\n",
      "           1       1.00      0.98      0.99        54\n",
      "           2       0.80      0.94      0.86        47\n",
      "           3       1.00      0.88      0.93        49\n",
      "           4       0.94      0.92      0.93        53\n",
      "           5       1.00      0.92      0.96        51\n",
      "           6       0.95      0.75      0.84        53\n",
      "           7       0.92      1.00      0.96        49\n",
      "           8       0.96      0.98      0.97        50\n",
      "           9       1.00      1.00      1.00        42\n",
      "\n",
      "   micro avg       0.93      0.93      0.93       500\n",
      "   macro avg       0.94      0.93      0.93       500\n",
      "weighted avg       0.94      0.93      0.93       500\n",
      "\n"
     ]
    }
   ],
   "source": [
    "print('Performance of kNN classifier with k=3')\n",
    "print(classification_report(test_label,model_pred ))"
   ]
  },
  {
   "cell_type": "code",
   "execution_count": 31,
   "metadata": {},
   "outputs": [
    {
     "name": "stdout",
     "output_type": "stream",
     "text": [
      "[[49  0  1  0  0  0  1  0  1  0]\n",
      " [ 0 53  1  0  0  0  0  0  0  0]\n",
      " [ 2  0 44  0  1  0  0  0  0  0]\n",
      " [ 3  0  2 43  1  0  0  0  0  0]\n",
      " [ 1  0  2  0 49  0  1  0  0  0]\n",
      " [ 0  0  0  0  0 47  0  4  0  0]\n",
      " [ 7  0  4  0  1  0 40  0  1  0]\n",
      " [ 0  0  0  0  0  0  0 49  0  0]\n",
      " [ 0  0  1  0  0  0  0  0 49  0]\n",
      " [ 0  0  0  0  0  0  0  0  0 42]]\n"
     ]
    }
   ],
   "source": [
    "#confusion matrix\n",
    "cf_matrix = confusion_matrix(test_label, label_predicted[3])\n",
    "print(cf_matrix)"
   ]
  }
 ],
 "metadata": {
  "anaconda-cloud": {},
  "kernelspec": {
   "display_name": "Python 3",
   "language": "python",
   "name": "python3"
  },
  "language_info": {
   "codemirror_mode": {
    "name": "ipython",
    "version": 3
   },
   "file_extension": ".py",
   "mimetype": "text/x-python",
   "name": "python",
   "nbconvert_exporter": "python",
   "pygments_lexer": "ipython3",
   "version": "3.7.3"
  }
 },
 "nbformat": 4,
 "nbformat_minor": 2
}
