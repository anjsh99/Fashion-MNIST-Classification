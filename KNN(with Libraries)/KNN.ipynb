{
 "cells": [
  {
   "cell_type": "code",
   "execution_count": 1,
   "metadata": {},
   "outputs": [],
   "source": [
    "#importing required libraries\n",
    "import gzip\n",
    "import numpy as np"
   ]
  },
  {
   "cell_type": "code",
   "execution_count": 2,
   "metadata": {},
   "outputs": [],
   "source": [
    "from sklearn.model_selection import cross_val_score\n",
    "from sklearn.neighbors import KNeighborsClassifier\n",
    "from sklearn.metrics import classification_report, confusion_matrix "
   ]
  },
  {
   "cell_type": "code",
   "execution_count": 3,
   "metadata": {},
   "outputs": [],
   "source": [
    "#Loading training datasets\n",
    "with gzip.open(\"./train-labels-idx1-ubyte.gz\", \"r\") as train_label_path:\n",
    "    train_label = np.frombuffer(train_label_path.read(), dtype=np.uint8, offset=8)\n",
    "\n",
    "with gzip.open(\"./train-images-idx3-ubyte.gz\", \"r\") as train_data_path:\n",
    "    train_data = np.frombuffer(train_data_path.read(), dtype=np.uint8, offset=16).reshape(len(train_label), 784)"
   ]
  },
  {
   "cell_type": "code",
   "execution_count": 4,
   "metadata": {},
   "outputs": [],
   "source": [
    "#Loading test datasets\n",
    "with gzip.open(\"./t10k-labels-idx1-ubyte.gz\", \"r\") as test_label_path:\n",
    "    test_label = np.frombuffer(test_label_path.read(), dtype=np.uint8, offset=8)\n",
    "\n",
    "with gzip.open(\"./t10k-images-idx3-ubyte.gz\", \"r\") as test_data_path:\n",
    "    test_data = np.frombuffer(test_data_path.read(), dtype=np.uint8, offset=16).reshape(len(test_label), 784)"
   ]
  },
  {
   "cell_type": "code",
   "execution_count": 7,
   "metadata": {},
   "outputs": [
    {
     "name": "stdout",
     "output_type": "stream",
     "text": [
      "(10000, 784)\n",
      "(10000,)\n",
      "(10000, 784)\n"
     ]
    }
   ],
   "source": [
    "#Considering 10,000 samples of original training data\n",
    "r1= train_data[ :10000]\n",
    "r2= train_label[ :10000]\n",
    "\n",
    "print(r1.shape)\n",
    "print(r2.shape)\n",
    "print(test_data.shape)"
   ]
  },
  {
   "cell_type": "code",
   "execution_count": 10,
   "metadata": {},
   "outputs": [
    {
     "name": "stdout",
     "output_type": "stream",
     "text": [
      "[0.81175299 0.80458624 0.81618382 0.81318681 0.842      0.825\n",
      " 0.81381381 0.82364729 0.82364729 0.82028112]\n",
      "Average:0.8194099386184771\n"
     ]
    }
   ],
   "source": [
    "#k-NN classifier with k=3\n",
    "knn_model = KNeighborsClassifier(n_neighbors=3)\n",
    "#training the model with folds of 10\n",
    "cv_scores = cross_val_score(knn_model, r1, r2, cv=10)\n",
    "#print each cv score (accuracy) and their average \n",
    "print(cv_scores)\n",
    "print('Average:{}'.format(np.mean(cv_scores)))"
   ]
  }
 ],
 "metadata": {
  "kernelspec": {
   "display_name": "Python 3",
   "language": "python",
   "name": "python3"
  },
  "language_info": {
   "codemirror_mode": {
    "name": "ipython",
    "version": 3
   },
   "file_extension": ".py",
   "mimetype": "text/x-python",
   "name": "python",
   "nbconvert_exporter": "python",
   "pygments_lexer": "ipython3",
   "version": "3.8.3"
  }
 },
 "nbformat": 4,
 "nbformat_minor": 4
}
